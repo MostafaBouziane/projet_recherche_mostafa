{
 "cells": [
  {
   "cell_type": "markdown",
   "metadata": {},
   "source": [
    "# Illustration de mon code"
   ]
  },
  {
   "cell_type": "code",
   "execution_count": 17,
   "metadata": {
    "collapsed": false
   },
   "outputs": [
    {
     "name": "stdout",
     "output_type": "stream",
     "text": [
      "Populating the interactive namespace from numpy and matplotlib\n"
     ]
    }
   ],
   "source": [
    "%pylab inline\n",
    "import numpy as np\n",
    "import matplotlib.pyplot as plt\n",
    "\n",
    "%load_ext autoreload\n",
    "\n",
    "%autoreload 2"
   ]
  },
  {
   "cell_type": "code",
   "execution_count": 18,
   "metadata": {
    "collapsed": false
   },
   "outputs": [],
   "source": [
    "from Dirichlet_Process_and_Gibbs_Sampling import Dirichlet_vs_Gibbs"
   ]
  },
  {
   "cell_type": "code",
   "execution_count": 19,
   "metadata": {
    "collapsed": false
   },
   "outputs": [
    {
     "data": {
      "text/plain": [
       "[<matplotlib.lines.Line2D at 0x10cf5eb70>]"
      ]
     },
     "execution_count": 19,
     "metadata": {},
     "output_type": "execute_result"
    },
    {
     "data": {
      "image/png": "[encoded data removed]",
      "text/plain": [
       "<matplotlib.figure.Figure at 0x10cc7f278>"
      ]
     },
     "metadata": {},
     "output_type": "display_data"
    }
   ],
   "source": [
    "from sklearn import datasets\n",
    "\n",
    "iris = datasets.load_iris()\n",
    "X = iris.data\n",
    "\n",
    "plt.plot(X[:, 0], X[:, 1], '*')"
   ]
  },
  {
   "cell_type": "code",
   "execution_count": 30,
   "metadata": {
    "collapsed": false
   },
   "outputs": [
    {
     "name": "stdout",
     "output_type": "stream",
     "text": [
      "there is 14 clusters\n"
     ]
    },
    {
     "data": {
      "image/png": "[encoded data removed]",
      "text/plain": [
       "<matplotlib.figure.Figure at 0x10d3943c8>"
      ]
     },
     "metadata": {},
     "output_type": "display_data"
    }
   ],
   "source": [
    "labels = Dirichlet_vs_Gibbs(X, 0.5, 500)\n",
    "\n",
    "print('there is ' + str(np.max(labels)) + ' clusters')\n",
    "\n",
    "for i in np.arange(np.max(labels)):\n",
    "    plt.plot(X[labels == i, 0], X[labels == i, 1], '*')"
   ]
  },
  {
   "cell_type": "code",
   "execution_count": 21,
   "metadata": {
    "collapsed": false
   },
   "outputs": [
    {
     "data": {
      "text/plain": [
       "4"
      ]
     },
     "execution_count": 21,
     "metadata": {},
     "output_type": "execute_result"
    }
   ],
   "source": []
  },
  {
   "cell_type": "markdown",
   "metadata": {},
   "source": [
    "## Tasks\n",
    "- débugger le code\n",
    "    * faire un jupyter notebook\n",
    "    * tu testes chaque fonctions i\n",
    "    * faire un nouveau notebook avec la fin un exemple jouet où ça a l'air de fonctionner en 2D.\n",
    "    \n",
    "    \n",
    "- Rapport\n",
    "    * Partager overleaf\n",
    "    * écrire l'algo que tu as codé (pour soutenance + débug)\n",
    "    \n",
    "    \n",
    "- Manip à long terme\n",
    "    * Sur des données synthéthiques (plusieurs type de configurations) faire les expérience suivantes\n",
    "    fixer $\\alpha$, faire tourner l'algo pour plusieurs valeurs du nombre d'observations (N= 100, 500, 1000, 5000...)\n",
    "    Comment se comporte K avec les itterations?\n",
    "    * même manip mais prendre $\\alpha > D/2$ et $\\alpha < D/2$, et regarder l'estimateur de la taille des clusters rangés par ordre décroissant.\n",
    "    * Refaire la même démarche avec avec une prior sur $\\alpha$. Même question.\n",
    "    \n",
    "    \n",
    "- réfléchir à ce que tu as envie de raconter dans les slides"
   ]
  },
  {
   "cell_type": "code",
   "execution_count": null,
   "metadata": {
    "collapsed": true
   },
   "outputs": [],
   "source": []
  }
 ],
 "metadata": {
  "kernelspec": {
   "display_name": "Python 3",
   "language": "python",
   "name": "python3"
  },
  "language_info": {
   "codemirror_mode": {
    "name": "ipython",
    "version": 3
   },
   "file_extension": ".py",
   "mimetype": "text/x-python",
   "name": "python",
   "nbconvert_exporter": "python",
   "pygments_lexer": "ipython3",
   "version": "3.5.0"
  }
 },
 "nbformat": 4,
 "nbformat_minor": 0
}
